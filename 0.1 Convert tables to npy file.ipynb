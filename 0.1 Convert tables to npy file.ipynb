{
 "cells": [
  {
   "cell_type": "code",
   "execution_count": 3,
   "metadata": {},
   "outputs": [],
   "source": [
    "import numpy as np\n",
    "import matplotlib.pyplot as plt\n",
    "from astropy.io import ascii, votable\n",
    "from astropy.table import Table, vstack, hstack\n",
    "import astropy.units as u\n",
    "\n",
    "dir_rrlyrae = '/datascope/menard/group/scheng/Gaia/'"
   ]
  },
  {
   "cell_type": "markdown",
   "metadata": {},
   "source": [
    "## open tables"
   ]
  },
  {
   "cell_type": "markdown",
   "metadata": {},
   "source": [
    "## RV samples"
   ]
  },
  {
   "cell_type": "code",
   "execution_count": 6,
   "metadata": {
    "collapsed": true
   },
   "outputs": [
    {
     "name": "stderr",
     "output_type": "stream",
     "text": [
      "WARNING: W27: /datascope/menard/group/scheng/Gaia/with_rv_1M.vot:3:0: W27: COOSYS deprecated in VOTable 1.2 [astropy.io.votable.tree]\n",
      "WARNING: W35: /datascope/menard/group/scheng/Gaia/with_rv_1M.vot:5:0: W35: 'value' attribute required for INFO elements [astropy.io.votable.tree]\n",
      "WARNING: W35: /datascope/menard/group/scheng/Gaia/with_rv_1M.vot:10:0: W35: 'value' attribute required for INFO elements [astropy.io.votable.tree]\n",
      "WARNING: W35: /datascope/menard/group/scheng/Gaia/with_rv_1M.vot:11:0: W35: 'value' attribute required for INFO elements [astropy.io.votable.tree]\n",
      "WARNING: W35: /datascope/menard/group/scheng/Gaia/with_rv_1M.vot:12:0: W35: 'value' attribute required for INFO elements [astropy.io.votable.tree]\n",
      "WARNING: W35: /datascope/menard/group/scheng/Gaia/with_rv_1M.vot:14:0: W35: 'value' attribute required for INFO elements [astropy.io.votable.tree]\n",
      "WARNING: W50: /datascope/menard/group/scheng/Gaia/with_rv_1M.vot:40:0: W50: Invalid unit string 'mas.yr**-1' [astropy.io.votable.tree]\n",
      "WARNING: W50: /datascope/menard/group/scheng/Gaia/with_rv_1M.vot:43:0: W50: Invalid unit string 'mas.yr**-1' [astropy.io.votable.tree]\n",
      "WARNING: W50: /datascope/menard/group/scheng/Gaia/with_rv_1M.vot:46:0: W50: Invalid unit string 'mas.yr**-1' [astropy.io.votable.tree]\n",
      "WARNING: W50: /datascope/menard/group/scheng/Gaia/with_rv_1M.vot:49:0: W50: Invalid unit string 'mas.yr**-1' [astropy.io.votable.tree]\n",
      "WARNING: W06: /datascope/menard/group/scheng/Gaia/with_rv_1M.vot:55:0: W06: Invalid UCD 'phot.color': Unknown word 'phot.color' [astropy.io.votable.tree]\n",
      "WARNING: W50: /datascope/menard/group/scheng/Gaia/with_rv_1M.vot:58:0: W50: Invalid unit string 'km.s**-1' [astropy.io.votable.tree]\n"
     ]
    }
   ],
   "source": [
    "f2 = votable.parse(dir_rrlyrae+'with_rv_1M.vot')\n",
    "with_rv_1M = f2.get_first_table().to_table()"
   ]
  },
  {
   "cell_type": "code",
   "execution_count": 7,
   "metadata": {},
   "outputs": [],
   "source": [
    "np.save(dir_rrlyrae+'with_rv_1M.npy',np.array([{'with_rv_1M':with_rv_1M}]))"
   ]
  },
  {
   "cell_type": "code",
   "execution_count": null,
   "metadata": {},
   "outputs": [],
   "source": [
    "f2 = votable.parse(dir_rrlyrae+'with_rv_all.vot')\n",
    "with_rv_all = f2.get_first_table().to_table()"
   ]
  },
  {
   "cell_type": "code",
   "execution_count": null,
   "metadata": {},
   "outputs": [],
   "source": [
    "np.save(dir_rrlyrae+'with_rv_all.npy',np.array([{'with_rv_all':with_rv_all}]))"
   ]
  },
  {
   "cell_type": "markdown",
   "metadata": {},
   "source": [
    "## RR Lyrae"
   ]
  },
  {
   "cell_type": "code",
   "execution_count": null,
   "metadata": {},
   "outputs": [],
   "source": [
    "f2 = votable.parse(dir_rrlyrae+'main_statistics_rrlyrae.vot')\n",
    "rrlyrae = f2.get_first_table().to_table()"
   ]
  },
  {
   "cell_type": "code",
   "execution_count": null,
   "metadata": {},
   "outputs": [],
   "source": [
    "np.save(dir_rrlyrae+'rrlyrae.npy',np.array([{'rrlyrae':rrlyrae}]))"
   ]
  },
  {
   "cell_type": "markdown",
   "metadata": {},
   "source": [
    "## Cepheid"
   ]
  },
  {
   "cell_type": "code",
   "execution_count": 4,
   "metadata": {
    "collapsed": true
   },
   "outputs": [
    {
     "name": "stderr",
     "output_type": "stream",
     "text": [
      "WARNING: W27: /datascope/menard/group/scheng/Gaia/main_statistics_cepheid.vot:3:0: W27: COOSYS deprecated in VOTable 1.2 [astropy.io.votable.tree]\n",
      "WARNING: W35: /datascope/menard/group/scheng/Gaia/main_statistics_cepheid.vot:5:0: W35: 'value' attribute required for INFO elements [astropy.io.votable.tree]\n",
      "WARNING: W35: /datascope/menard/group/scheng/Gaia/main_statistics_cepheid.vot:9:0: W35: 'value' attribute required for INFO elements [astropy.io.votable.tree]\n",
      "WARNING: W35: /datascope/menard/group/scheng/Gaia/main_statistics_cepheid.vot:10:0: W35: 'value' attribute required for INFO elements [astropy.io.votable.tree]\n",
      "WARNING: W35: /datascope/menard/group/scheng/Gaia/main_statistics_cepheid.vot:11:0: W35: 'value' attribute required for INFO elements [astropy.io.votable.tree]\n",
      "WARNING: W35: /datascope/menard/group/scheng/Gaia/main_statistics_cepheid.vot:13:0: W35: 'value' attribute required for INFO elements [astropy.io.votable.tree]\n",
      "WARNING: W06: /datascope/menard/group/scheng/Gaia/main_statistics_cepheid.vot:48:0: W06: Invalid UCD 'arith.ratio': Secondary word 'arith.ratio' is not valid as a primary word [astropy.io.votable.tree]\n",
      "WARNING: W50: /datascope/menard/group/scheng/Gaia/main_statistics_cepheid.vot:51:0: W50: Invalid unit string 'mas.yr**-1' [astropy.io.votable.tree]\n",
      "WARNING: W50: /datascope/menard/group/scheng/Gaia/main_statistics_cepheid.vot:54:0: W50: Invalid unit string 'mas.yr**-1' [astropy.io.votable.tree]\n",
      "WARNING: W50: /datascope/menard/group/scheng/Gaia/main_statistics_cepheid.vot:57:0: W50: Invalid unit string 'mas.yr**-1' [astropy.io.votable.tree]\n",
      "WARNING: W50: /datascope/menard/group/scheng/Gaia/main_statistics_cepheid.vot:60:0: W50: Invalid unit string 'mas.yr**-1' [astropy.io.votable.tree]\n",
      "WARNING: W50: /datascope/menard/group/scheng/Gaia/main_statistics_cepheid.vot:123:0: W50: Invalid unit string 'mas**-2' [astropy.io.votable.tree]\n",
      "WARNING: W50: /datascope/menard/group/scheng/Gaia/main_statistics_cepheid.vot:126:0: W50: Invalid unit string 'um**-1' [astropy.io.votable.tree]\n",
      "WARNING: W06: /datascope/menard/group/scheng/Gaia/main_statistics_cepheid.vot:129:0: W06: Invalid UCD 'em.wavenumber;stat.error': Primary word 'stat.error' is not valid as a secondary word [astropy.io.votable.tree]\n",
      "WARNING: W50: /datascope/menard/group/scheng/Gaia/main_statistics_cepheid.vot:129:0: W50: Invalid unit string 'um**-1' [astropy.io.votable.tree]\n",
      "WARNING: W06: /datascope/menard/group/scheng/Gaia/main_statistics_cepheid.vot:141:0: W06: Invalid UCD 'pos.errorEllipse;stat.max': Secondary word 'pos.errorEllipse' is not valid as a primary word [astropy.io.votable.tree]\n",
      "WARNING: W50: /datascope/menard/group/scheng/Gaia/main_statistics_cepheid.vot:156:0: W50: Invalid unit string ''electron'.s**-1' [astropy.io.votable.tree]\n",
      "WARNING: W50: /datascope/menard/group/scheng/Gaia/main_statistics_cepheid.vot:159:0: W50: Invalid unit string ''electron'.s**-1' [astropy.io.votable.tree]\n",
      "WARNING: W06: /datascope/menard/group/scheng/Gaia/main_statistics_cepheid.vot:162:0: W06: Invalid UCD 'arith.ratio': Secondary word 'arith.ratio' is not valid as a primary word [astropy.io.votable.tree]\n",
      "WARNING: W50: /datascope/menard/group/scheng/Gaia/main_statistics_cepheid.vot:171:0: W50: Invalid unit string ''electron'.s**-1' (suppressing further warnings of this type...) [astropy.io.votable.tree]\n",
      "WARNING: W06: /datascope/menard/group/scheng/Gaia/main_statistics_cepheid.vot:177:0: W06: Invalid UCD 'arith.ratio': Secondary word 'arith.ratio' is not valid as a primary word [astropy.io.votable.tree]\n",
      "WARNING: W06: /datascope/menard/group/scheng/Gaia/main_statistics_cepheid.vot:192:0: W06: Invalid UCD 'arith.ratio': Secondary word 'arith.ratio' is not valid as a primary word [astropy.io.votable.tree]\n",
      "WARNING: W06: /datascope/menard/group/scheng/Gaia/main_statistics_cepheid.vot:204:0: W06: Invalid UCD 'phot.color': Unknown word 'phot.color' [astropy.io.votable.tree]\n",
      "WARNING: W06: /datascope/menard/group/scheng/Gaia/main_statistics_cepheid.vot:207:0: W06: Invalid UCD 'phot.color': Unknown word 'phot.color' [astropy.io.votable.tree]\n",
      "WARNING: W06: /datascope/menard/group/scheng/Gaia/main_statistics_cepheid.vot:210:0: W06: Invalid UCD 'phot.color': Unknown word 'phot.color' [astropy.io.votable.tree]\n",
      "WARNING: W06: /datascope/menard/group/scheng/Gaia/main_statistics_cepheid.vot:282:0: W06: Invalid UCD 'phys.size.radius;stat.error': Primary word 'stat.error' is not valid as a secondary word (suppressing further warnings of this type...) [astropy.io.votable.tree]\n",
      "WARNING: W32: /datascope/menard/group/scheng/Gaia/main_statistics_cepheid.vot:303:0: W32: Duplicate ID 'solution_id' renamed to 'solution_id_2' to ensure uniqueness [astropy.io.votable.tree]\n",
      "WARNING: W32: /datascope/menard/group/scheng/Gaia/main_statistics_cepheid.vot:306:0: W32: Duplicate ID 'source_id' renamed to 'source_id_2' to ensure uniqueness [astropy.io.votable.tree]\n",
      "WARNING: W32: /datascope/menard/group/scheng/Gaia/main_statistics_cepheid.vot:435:0: W32: Duplicate ID 'solution_id' renamed to 'solution_id_3' to ensure uniqueness [astropy.io.votable.tree]\n",
      "WARNING: W32: /datascope/menard/group/scheng/Gaia/main_statistics_cepheid.vot:438:0: W32: Duplicate ID 'source_id' renamed to 'source_id_3' to ensure uniqueness [astropy.io.votable.tree]\n",
      "WARNING: W33: /datascope/menard/group/scheng/Gaia/main_statistics_cepheid.vot:303:0: W33: Column name 'solution_id' renamed to 'solution_id 2' to ensure uniqueness [astropy.io.votable.tree]\n",
      "WARNING: W33: /datascope/menard/group/scheng/Gaia/main_statistics_cepheid.vot:306:0: W33: Column name 'source_id' renamed to 'source_id 2' to ensure uniqueness [astropy.io.votable.tree]\n",
      "WARNING: W33: /datascope/menard/group/scheng/Gaia/main_statistics_cepheid.vot:435:0: W33: Column name 'solution_id' renamed to 'solution_id 3' to ensure uniqueness [astropy.io.votable.tree]\n",
      "WARNING: W33: /datascope/menard/group/scheng/Gaia/main_statistics_cepheid.vot:438:0: W33: Column name 'source_id' renamed to 'source_id 3' to ensure uniqueness [astropy.io.votable.tree]\n"
     ]
    }
   ],
   "source": [
    "f2 = votable.parse(dir_rrlyrae+'main_statistics_cepheid.vot')\n",
    "cepheid = f2.get_first_table().to_table()"
   ]
  },
  {
   "cell_type": "code",
   "execution_count": 5,
   "metadata": {},
   "outputs": [],
   "source": [
    "np.save(dir_rrlyrae+'cepheid.npy',np.array([{'cepheid':cepheid}]))"
   ]
  },
  {
   "cell_type": "markdown",
   "metadata": {},
   "source": [
    "## query text"
   ]
  },
  {
   "cell_type": "markdown",
   "metadata": {},
   "source": [
    "### RV_all"
   ]
  },
  {
   "cell_type": "code",
   "execution_count": null,
   "metadata": {},
   "outputs": [],
   "source": [
    "SELECT\n",
    "source_id, random_index, ra, dec, l, b, parallax, parallax_error, pmra, pmra_error, pmdec, pmdec_error, phot_g_mean_mag, bp_rp, radial_velocity, a_g_val\n",
    "FROM gaiadr2.gaia_source  \n",
    "WHERE (radial_velocity<1000 or radial_velocity>-1000) and ((parallax_error/parallax)<0.1)"
   ]
  },
  {
   "cell_type": "markdown",
   "metadata": {},
   "source": [
    "### with_rv_1M"
   ]
  },
  {
   "cell_type": "code",
   "execution_count": null,
   "metadata": {},
   "outputs": [],
   "source": [
    "SELECT top 1000000\n",
    "source_id, random_index, ra, dec, l, b, parallax, parallax_error, pmra, pmra_error, pmdec, pmdec_error, phot_g_mean_mag, bp_rp, radial_velocity, a_g_val\n",
    "FROM gaiadr2.gaia_source  \n",
    "WHERE radial_velocity<1000 or radial_velocity>-1000\n",
    "order by random_index"
   ]
  },
  {
   "cell_type": "markdown",
   "metadata": {},
   "source": [
    "### Cepheid"
   ]
  },
  {
   "cell_type": "code",
   "execution_count": null,
   "metadata": {},
   "outputs": [],
   "source": [
    "select \n",
    "gaiadr2.gaia_source.*, gaiadr2.vari_time_series_statistics.*, gaiadr2.vari_cepheid.*\n",
    "from ( gaiadr2.gaia_source\n",
    "right join gaiadr2.vari_time_series_statistics on gaiadr2.gaia_source.source_id = gaiadr2.vari_time_series_statistics.source_id )\n",
    "right join gaiadr2.vari_cepheid on gaiadr2.vari_time_series_statistics.source_id = gaiadr2.vari_cepheid.source_id"
   ]
  }
 ],
 "metadata": {
  "kernelspec": {
   "display_name": "Python 3",
   "language": "python",
   "name": "python3"
  },
  "language_info": {
   "codemirror_mode": {
    "name": "ipython",
    "version": 3
   },
   "file_extension": ".py",
   "mimetype": "text/x-python",
   "name": "python",
   "nbconvert_exporter": "python",
   "pygments_lexer": "ipython3",
   "version": "3.6.3"
  }
 },
 "nbformat": 4,
 "nbformat_minor": 2
}
