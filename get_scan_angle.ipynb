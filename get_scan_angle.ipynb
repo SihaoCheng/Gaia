{
 "cells": [
  {
   "cell_type": "code",
   "execution_count": null,
   "metadata": {},
   "outputs": [],
   "source": [
    "import numpy as np\n",
    "\n",
    "def get_scan_angle(ra, dec, epoch, dir_of_normal_vector):\n",
    "    ## get the projection factor in RA and DEC direction, which is the same as tan(theta) and cot(theta) in proper definition of theta. \n",
    "    ## a_projection**2 + d_projection**2 = 1\n",
    "    ## note that RA increase from right to left\n",
    "    ## ra, dec, epoch are 1D np.array of the same length. All epochs of all objects should be stacked into 1D:\n",
    "    ## e.g., given 2 objects with 4 and 3 epochs respectively, they should follow the form\n",
    "    ## ra = np.array([a1,a1,a1,a1,a2,a2,a2]), dec = np.array([d1,d1,d1,d1,d2,d2,d2]), \n",
    "    ## epoch = np.array([t11,t12,t13,t14,t21,t22,t23]), where all symbols in the arrays are float\n",
    "    ## epoch follows the definition of the 'time' column in light-curve catalogue, ranging from 1666 to 2336 [day]\n",
    "\n",
    "    xyz = np.load(dir_of_normal_vector+'norm_xyz.npy') # x, y, z of the normal vector of the scan-plane\n",
    "    position_xyz = np.concatenate([(np.cos(ra/180*np.pi) * np.cos(dec/180*np.pi)).reshape(-1,1),\\\n",
    "                (np.sin(ra/180*np.pi) * np.cos(dec/180*np.pi)).reshape(-1,1), \\\n",
    "                           np.sin(dec/180*np.pi).reshape(-1,1)],axis=1)  # position vector of the source\n",
    "\n",
    "\n",
    "    interval_index = np.zeros(len(epoch),dtype=int)\n",
    "    interval_index[:] = (np.round(epoch)-1666)\n",
    "    xyz_each = np.empty((len(epoch),3))\n",
    "    for i in range(len(epoch)):\n",
    "        xyz_each[i,:] = xyz[interval_index[i],:]\n",
    "    tangential = np.cross(xyz_each,position_xyz)  # a vector in the direction of scan (or maybe the anti-direction)\n",
    "    tangential = tangential/np.sqrt((tangential**2).sum(axis=1).reshape(-1,1)) # normalize the vector\n",
    "    alpha_axis = np.cross((0,0,1),position_xyz)\n",
    "    delta_axis = np.cross(position_xyz,alpha_axis)\n",
    "    alpha_axis = alpha_axis/np.sqrt((alpha_axis**2).sum(axis=1).reshape(-1,1))  # normalize the vector\n",
    "    delta_axis = delta_axis/np.sqrt((delta_axis**2).sum(axis=1).reshape(-1,1))  # normalize the vector\n",
    "    \n",
    "    a_projection = (tangential * alpha_axis).sum(axis=1)  # get the projection factor for each epoch in RA\n",
    "    d_projection = (tangential * delta_axis).sum(axis=1)  # in DEC \n",
    "    \n",
    "    return a_projection, d_projection"
   ]
  },
  {
   "cell_type": "code",
   "execution_count": null,
   "metadata": {},
   "outputs": [],
   "source": [
    "ra = ?\n",
    "dec = ?\n",
    "epoch = ?\n",
    "dir_or_normal_vector = 'Gaia/'\n",
    "\n",
    "a_projection, d_projection = get_scan_angle(ra, dec, epoch, dir_of_normal_vector)"
   ]
  }
 ],
 "metadata": {
  "kernelspec": {
   "display_name": "Python 3",
   "language": "python",
   "name": "python3"
  },
  "language_info": {
   "codemirror_mode": {
    "name": "ipython",
    "version": 3
   },
   "file_extension": ".py",
   "mimetype": "text/x-python",
   "name": "python",
   "nbconvert_exporter": "python",
   "pygments_lexer": "ipython3",
   "version": "3.6.3"
  }
 },
 "nbformat": 4,
 "nbformat_minor": 2
}
