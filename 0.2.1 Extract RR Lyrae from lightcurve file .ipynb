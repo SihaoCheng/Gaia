{
 "cells": [
  {
   "cell_type": "code",
   "execution_count": 3,
   "metadata": {},
   "outputs": [],
   "source": [
    "import numpy as np\n",
    "import matplotlib.pyplot as plt\n",
    "from astropy.io import ascii, votable\n",
    "from astropy.table import Table, vstack, hstack\n",
    "import astropy.units as u\n",
    "from astropy.coordinates import ICRS, Galactic\n",
    "from scipy.interpolate import interp1d\n",
    "\n",
    "from os import listdir\n",
    "\n",
    "dir_rrlyrae = '/datascope/menard/group/scheng/Gaia/'"
   ]
  },
  {
   "cell_type": "markdown",
   "metadata": {},
   "source": [
    "## load rrlyrae table"
   ]
  },
  {
   "cell_type": "code",
   "execution_count": 4,
   "metadata": {},
   "outputs": [
    {
     "data": {
      "text/plain": [
       "140784"
      ]
     },
     "execution_count": 4,
     "metadata": {},
     "output_type": "execute_result"
    }
   ],
   "source": [
    "rrlyrae = np.load(dir_rrlyrae+'rrlyrae.npy')[0]['rrlyrae']\n",
    "len(rrlyrae)"
   ]
  },
  {
   "cell_type": "markdown",
   "metadata": {},
   "source": [
    "## processing the name of light-curve folders"
   ]
  },
  {
   "cell_type": "code",
   "execution_count": 5,
   "metadata": {},
   "outputs": [],
   "source": [
    "dir_list = listdir('/datascope/menard/DATA/Gaia/gdr2_new/Gaia/gdr2/light_curves/csv/')\n",
    "id_list_start = np.zeros(len(dir_list),dtype=int)\n",
    "id_list_end = np.zeros(len(dir_list),dtype=int)\n",
    "for i in range(len(dir_list)):\n",
    "    underscore = []\n",
    "    dot = []\n",
    "    for j in range(len(dir_list[i])):\n",
    "        if dir_list[i][j] == '_':\n",
    "            underscore.append(j)\n",
    "        elif dir_list[i][j] == '.':\n",
    "            dot.append(j)\n",
    "    id_list_start[i] = dir_list[i][13:underscore[2]]\n",
    "    id_list_end[i] = dir_list[i][underscore[2]+1:dot[0]]"
   ]
  },
  {
   "cell_type": "markdown",
   "metadata": {},
   "source": [
    "## sort light curve folder by source id "
   ]
  },
  {
   "cell_type": "code",
   "execution_count": 6,
   "metadata": {
    "scrolled": true
   },
   "outputs": [
    {
     "data": {
      "text/plain": [
       "551"
      ]
     },
     "execution_count": 6,
     "metadata": {},
     "output_type": "execute_result"
    }
   ],
   "source": [
    "file_list = Table([id_list_end, dir_list],names=('id_list_end','dir_list'),dtype=(int,str))\n",
    "file_list.add_column(Table.Column(np.arange(len(id_list_end)),name='index_unordered',dtype=int))\n",
    "file_list.sort('id_list_end')\n",
    "len(dir_list)"
   ]
  },
  {
   "cell_type": "markdown",
   "metadata": {},
   "source": [
    "### sort RR Lyrae table by id"
   ]
  },
  {
   "cell_type": "code",
   "execution_count": 7,
   "metadata": {},
   "outputs": [],
   "source": [
    "table_id_ordered = rrlyrae.copy()\n",
    "table_id_ordered.add_column(Table.Column(np.arange(len(table_id_ordered)),name='index',dtype=int))\n",
    "table_id_ordered.sort('source_id')\n",
    "table_id_ordered.add_column(Table.Column(np.arange(len(table_id_ordered)),name='inverse_index',dtype=int))\n",
    "table_id_ordered.sort('index')\n",
    "inverse_index = table_id_ordered['inverse_index'].copy()\n",
    "table_id_ordered.sort('source_id')"
   ]
  },
  {
   "cell_type": "markdown",
   "metadata": {},
   "source": [
    "### select rr lyrae"
   ]
  },
  {
   "cell_type": "code",
   "execution_count": 8,
   "metadata": {},
   "outputs": [
    {
     "data": {
      "text/plain": [
       "140784"
      ]
     },
     "execution_count": 8,
     "metadata": {},
     "output_type": "execute_result"
    }
   ],
   "source": [
    "#selected_ab_18_bright = (table_id_ordered['best_classification']==b'RRab') * (table_id_ordered['int_average_g']<1000)\n",
    "table_id_ordered_selected = table_id_ordered\n",
    "len(table_id_ordered)"
   ]
  },
  {
   "cell_type": "markdown",
   "metadata": {},
   "source": [
    "## Extract RR Lyrae"
   ]
  },
  {
   "cell_type": "code",
   "execution_count": 12,
   "metadata": {},
   "outputs": [],
   "source": [
    "rrlyrae_index = np.load(dir_rrlyrae+'rrlyrae_lightcurve_index.npy')\n",
    "light_curve_total = np.load(dir_rrlyrae+'lightcurve_total.npy')[0]['light_curve_total']\n",
    "\n",
    "len(rrlyrae_index)"
   ]
  },
  {
   "cell_type": "code",
   "execution_count": 41,
   "metadata": {},
   "outputs": [
    {
     "data": {
      "text/plain": [
       "(81.64731787703148, 48255086)"
      ]
     },
     "execution_count": 41,
     "metadata": {},
     "output_type": "execute_result"
    }
   ],
   "source": [
    "selected = np.zeros(len(light_curve_total),dtype=bool)\n",
    "for i in range(len(rrlyrae_index)):\n",
    "    selected[rrlyrae_index[i,0]+rrlyrae_index[i,4]:rrlyrae_index[i,1]+rrlyrae_index[i,4]] = True\n",
    "    selected[rrlyrae_index[i,1]+rrlyrae_index[i,4]:rrlyrae_index[i,2]+rrlyrae_index[i,4]] = True\n",
    "    selected[rrlyrae_index[i,2]+rrlyrae_index[i,4]:rrlyrae_index[i,3]+rrlyrae_index[i,4]] = True\n",
    "\n",
    "    selected.sum()/140784, len(selected)"
   ]
  },
  {
   "cell_type": "code",
   "execution_count": 42,
   "metadata": {},
   "outputs": [],
   "source": [
    "light_curve_rrlyrae = light_curve_total[selected]"
   ]
  },
  {
   "cell_type": "code",
   "execution_count": 43,
   "metadata": {},
   "outputs": [],
   "source": [
    "np.save(dir_rrlyrae+'lightcurve_rrlyrae.npy',np.array([{'light_curve_rrlyrae':light_curve_rrlyrae}]))"
   ]
  },
  {
   "cell_type": "code",
   "execution_count": 73,
   "metadata": {},
   "outputs": [
    {
     "data": {
      "text/plain": [
       "316"
      ]
     },
     "execution_count": 73,
     "metadata": {},
     "output_type": "execute_result"
    }
   ],
   "source": [
    "G_length = rrlyrae_index[:,1] - rrlyrae_index[:,0]\n",
    "BP_length = rrlyrae_index[:,2] - rrlyrae_index[:,1]\n",
    "RP_length = rrlyrae_index[:,3] - rrlyrae_index[:,2]\n",
    "total_length = G_length + BP_length + RP_length\n",
    "\n",
    "(G_length==0).sum()"
   ]
  },
  {
   "cell_type": "code",
   "execution_count": 74,
   "metadata": {},
   "outputs": [],
   "source": [
    "cumulative = total_length.copy()\n",
    "cumulative[0] = 0\n",
    "for i in range(1,len(cumulative)):\n",
    "    cumulative[i] = cumulative[i-1] + total_length[i-1]"
   ]
  },
  {
   "cell_type": "code",
   "execution_count": 86,
   "metadata": {},
   "outputs": [],
   "source": [
    "rrlyrae_index_new = np.zeros((len(rrlyrae),4),dtype=int) \n",
    "for i in range(len(rrlyrae_index)):\n",
    "    rrlyrae_index_new[i,0] = cumulative[i]\n",
    "    rrlyrae_index_new[i,1] = cumulative[i] + G_length[i]\n",
    "    rrlyrae_index_new[i,2] = cumulative[i] + G_length[i] + BP_length[i]\n",
    "    rrlyrae_index_new[i,3] = cumulative[i] + total_length[i]"
   ]
  },
  {
   "cell_type": "markdown",
   "metadata": {},
   "source": [
    "## test"
   ]
  },
  {
   "cell_type": "code",
   "execution_count": 92,
   "metadata": {},
   "outputs": [
    {
     "name": "stdout",
     "output_type": "stream",
     "text": [
      "6917264079699449600\n"
     ]
    },
    {
     "data": {
      "text/html": [
       "<i>Table masked=True length=101</i>\n",
       "<table id=\"table140018784094136\" class=\"table-striped table-bordered table-condensed\">\n",
       "<thead><tr><th>source_id</th><th>transit_id</th><th>band</th><th>time</th><th>mag</th><th>flux</th><th>flux_error</th><th>flux_over_error</th><th>rejected_by_photometry</th><th>rejected_by_variability</th><th>other_flags</th><th>solution_id</th></tr></thead>\n",
       "<thead><tr><th>int64</th><th>int64</th><th>str2</th><th>float64</th><th>float64</th><th>float64</th><th>float64</th><th>float64</th><th>str5</th><th>str5</th><th>int64</th><th>int64</th></tr></thead>\n",
       "<tr><td>6917091460669437824</td><td>50768691901293058</td><td>RP</td><td>2314.969855642799</td><td>16.051755351648513</td><td>3048.357194794994</td><td>58.85471764183874</td><td>51.79461</td><td>false</td><td>false</td><td>0</td><td>369295549951641967</td></tr>\n",
       "<tr><td>6917264079699449600</td><td>20072450219857235</td><td>G</td><td>1759.8451417789568</td><td>19.268282010330086</td><td>369.8566961746517</td><td>14.856225030971387</td><td>24.895739</td><td>false</td><td>false</td><td>4097</td><td>369295549951641967</td></tr>\n",
       "<tr><td>6917264079699449600</td><td>20076542511068047</td><td>G</td><td>1759.9191347005833</td><td>19.320326328347328</td><td>352.5459733652571</td><td>4.144063924094932</td><td>85.072525</td><td>false</td><td>false</td><td>524289</td><td>369295549951641967</td></tr>\n",
       "<tr><td>6917264079699449600</td><td>21720777228980342</td><td>G</td><td>1789.651412334692</td><td>19.324673943641102</td><td>351.13709560502235</td><td>4.639141955544111</td><td>75.690094</td><td>false</td><td>false</td><td>1</td><td>369295549951641967</td></tr>\n",
       "<tr><td>6917264079699449600</td><td>21730518037460592</td><td>G</td><td>1789.82755338045</td><td>18.952301959511043</td><td>494.79523229872694</td><td>8.265460523321343</td><td>59.862995</td><td>false</td><td>false</td><td>1</td><td>369295549951641967</td></tr>\n",
       "<tr><td>6917264079699449600</td><td>22850334415418476</td><td>G</td><td>1810.0771105355218</td><td>19.33319209925581</td><td>348.39302396701777</td><td>8.288440888162961</td><td>42.033604</td><td>false</td><td>false</td><td>1</td><td>369295549951641967</td></tr>\n",
       "<tr><td>6917264079699449600</td><td>22854426665738884</td><td>G</td><td>1810.1511110598385</td><td>19.293469431280137</td><td>361.37534353714665</td><td>6.447456292234253</td><td>56.04929</td><td>false</td><td>false</td><td>1</td><td>369295549951641967</td></tr>\n",
       "<tr><td>6917264079699449600</td><td>29970608288838337</td><td>G</td><td>1938.845714957021</td><td>19.268910342548626</td><td>369.6427163462756</td><td>7.145272333245077</td><td>51.732487</td><td>false</td><td>false</td><td>1</td><td>369295549951641967</td></tr>\n",
       "<tr><td>6917264079699449600</td><td>29974700574961931</td><td>G</td><td>1938.9197288011603</td><td>19.332786689390026</td><td>348.52313691836076</td><td>11.35059907619466</td><td>30.705263</td><td>false</td><td>false</td><td>1</td><td>369295549951641967</td></tr>\n",
       "<tr><td>6917264079699449600</td><td>31794336647369496</td><td>G</td><td>1971.8300333375926</td><td>18.912629664869975</td><td>513.2091893468713</td><td>5.279995178684783</td><td>97.1988</td><td>false</td><td>false</td><td>1</td><td>369295549951641967</td></tr>\n",
       "<tr><td>...</td><td>...</td><td>...</td><td>...</td><td>...</td><td>...</td><td>...</td><td>...</td><td>...</td><td>...</td><td>...</td><td>...</td></tr>\n",
       "<tr><td>6917264079699449600</td><td>43496189637599742</td><td>BP</td><td>2183.446612428194</td><td>19.411627492383175</td><td>237.63164332058122</td><td>49.32131558015922</td><td>4.8180313</td><td>false</td><td>false</td><td>0</td><td>369295549951641967</td></tr>\n",
       "<tr><td>6917264079699449600</td><td>48309120017142761</td><td>BP</td><td>2270.485911668137</td><td>19.53736806478855</td><td>211.6450143404485</td><td>40.53697897272462</td><td>5.2210355</td><td>false</td><td>false</td><td>0</td><td>369295549951641967</td></tr>\n",
       "<tr><td>6917264079699449600</td><td>48322953363361914</td><td>BP</td><td>2270.7360972282313</td><td>19.346070395836904</td><td>252.42194567300487</td><td>41.09136185964745</td><td>6.1429443</td><td>false</td><td>false</td><td>0</td><td>369295549951641967</td></tr>\n",
       "<tr><td>6917264079699449600</td><td>48336786685732429</td><td>BP</td><td>2270.986282450667</td><td>19.62588068480457</td><td>195.07561932089</td><td>40.407889422692215</td><td>4.8276615</td><td>false</td><td>false</td><td>0</td><td>369295549951641967</td></tr>\n",
       "<tr><td>6917264079699449600</td><td>48350619995383214</td><td>BP</td><td>2271.2364675533413</td><td>19.378761897360672</td><td>244.93480895707677</td><td>40.98382788312301</td><td>5.976377</td><td>false</td><td>false</td><td>0</td><td>369295549951641967</td></tr>\n",
       "<tr><td>6917264079699449600</td><td>48364453305820805</td><td>BP</td><td>2271.4866527678478</td><td>19.267933896226143</td><td>271.2574718775383</td><td>40.74240063032737</td><td>6.6578665</td><td>false</td><td>false</td><td>0</td><td>369295549951641967</td></tr>\n",
       "<tr><td>6917264079699449600</td><td>48378286628704493</td><td>BP</td><td>2271.736838302944</td><td>19.32839875058467</td><td>256.56402963081115</td><td>39.263033451473525</td><td>6.5344934</td><td>false</td><td>false</td><td>0</td><td>369295549951641967</td></tr>\n",
       "<tr><td>6917264079699449600</td><td>48392119979250872</td><td>BP</td><td>2271.9870244460185</td><td>19.5133152386241</td><td>216.38600697965143</td><td>38.611550423275084</td><td>5.604178</td><td>false</td><td>false</td><td>0</td><td>369295549951641967</td></tr>\n",
       "<tr><td>6917264079699449600</td><td>50764604755310202</td><td>BP</td><td>2314.89588931984</td><td>18.92692366264859</td><td>371.352030773847</td><td>42.41836570771094</td><td>8.754511</td><td>false</td><td>false</td><td>0</td><td>369295549951641967</td></tr>\n",
       "<tr><td>6917264079699449600</td><td>20072450219857235</td><td>RP</td><td>1759.8455443791138</td><td>18.67522296629933</td><td>272.0688423791865</td><td>27.573708485219033</td><td>9.866966</td><td>false</td><td>false</td><td>0</td><td>369295549951641967</td></tr>\n",
       "</table>"
      ],
      "text/plain": [
       "<Table masked=True length=101>\n",
       "     source_id          transit_id    band ... other_flags    solution_id    \n",
       "       int64              int64       str2 ...    int64          int64       \n",
       "------------------- ----------------- ---- ... ----------- ------------------\n",
       "6917091460669437824 50768691901293058   RP ...           0 369295549951641967\n",
       "6917264079699449600 20072450219857235    G ...        4097 369295549951641967\n",
       "6917264079699449600 20076542511068047    G ...      524289 369295549951641967\n",
       "6917264079699449600 21720777228980342    G ...           1 369295549951641967\n",
       "6917264079699449600 21730518037460592    G ...           1 369295549951641967\n",
       "6917264079699449600 22850334415418476    G ...           1 369295549951641967\n",
       "6917264079699449600 22854426665738884    G ...           1 369295549951641967\n",
       "6917264079699449600 29970608288838337    G ...           1 369295549951641967\n",
       "6917264079699449600 29974700574961931    G ...           1 369295549951641967\n",
       "6917264079699449600 31794336647369496    G ...           1 369295549951641967\n",
       "                ...               ...  ... ...         ...                ...\n",
       "6917264079699449600 43496189637599742   BP ...           0 369295549951641967\n",
       "6917264079699449600 48309120017142761   BP ...           0 369295549951641967\n",
       "6917264079699449600 48322953363361914   BP ...           0 369295549951641967\n",
       "6917264079699449600 48336786685732429   BP ...           0 369295549951641967\n",
       "6917264079699449600 48350619995383214   BP ...           0 369295549951641967\n",
       "6917264079699449600 48364453305820805   BP ...           0 369295549951641967\n",
       "6917264079699449600 48378286628704493   BP ...           0 369295549951641967\n",
       "6917264079699449600 48392119979250872   BP ...           0 369295549951641967\n",
       "6917264079699449600 50764604755310202   BP ...           0 369295549951641967\n",
       "6917264079699449600 20072450219857235   RP ...           0 369295549951641967"
      ]
     },
     "execution_count": 92,
     "metadata": {},
     "output_type": "execute_result"
    }
   ],
   "source": [
    "i=140783\n",
    "print(table_id_ordered['source_id'][i])\n",
    "light_curve_rrlyrae[rrlyrae_index_new[i,0]-1:rrlyrae_index_new[i,2]+1]"
   ]
  },
  {
   "cell_type": "markdown",
   "metadata": {},
   "source": [
    "## save"
   ]
  },
  {
   "cell_type": "code",
   "execution_count": 94,
   "metadata": {},
   "outputs": [],
   "source": [
    "np.save(dir_rrlyrae+'rrlyrae_lightcurve_index_new.npy',rrlyrae_index_new)"
   ]
  }
 ],
 "metadata": {
  "kernelspec": {
   "display_name": "Python 3",
   "language": "python",
   "name": "python3"
  },
  "language_info": {
   "codemirror_mode": {
    "name": "ipython",
    "version": 3
   },
   "file_extension": ".py",
   "mimetype": "text/x-python",
   "name": "python",
   "nbconvert_exporter": "python",
   "pygments_lexer": "ipython3",
   "version": "3.6.3"
  }
 },
 "nbformat": 4,
 "nbformat_minor": 2
}
