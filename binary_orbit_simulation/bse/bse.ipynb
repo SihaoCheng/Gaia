{
 "cells": [
  {
   "cell_type": "code",
   "execution_count": 230,
   "metadata": {
    "collapsed": true
   },
   "outputs": [],
   "source": [
    "import numpy as np\n",
    "import os\n",
    "from matplotlib import pyplot as plt"
   ]
  },
  {
   "cell_type": "markdown",
   "metadata": {},
   "source": [
    "    mass is in solar units.\n",
    "    tphysf is the maximum evolution time in Myr.\n",
    "    tb is the orbital period in days.\n",
    "    kstar is the stellar type: 0 or 1 on the ZAMS - unless in evolved state. \n",
    "    z is metallicity in the range 0.0001 -> 0.03 where 0.02 is Population I.\n",
    "    eccentricity can be anywhere in the range 0.0 -> 1.0.\n",
    "\n",
    "    neta is the Reimers mass-loss coefficent (neta*4x10^-13: 0.5 normally). \n",
    "    bwind is the binary enhanced mass loss parameter (inactive for single).\n",
    "    hewind is a helium star mass loss factor (1.0 normally).\n",
    "    alpha1 is the common-envelope efficiency parameter (1.0).  \n",
    "    lambda is the binding energy factor for common envelope evolution (0.5).\n",
    "\n",
    "    ceflag > 0 activates spin-energy correction in common-envelope (0). #defunct#\n",
    "    ceflag = 3 activates de Kool common-envelope model (0). \n",
    "    tflag > 0 activates tidal circularisation (1).\n",
    "    ifflag > 0 uses WD IFMR of HPE, 1995, MNRAS, 272, 800 (0). \n",
    "    wdflag > 0 uses modified-Mestel cooling for WDs (0). \n",
    "    bhflag > 0 allows velocity kick at BH formation (0). \n",
    "    nsflag > 0 takes NS/BH mass from Belczynski et al. 2002, ApJ, 572, 407 (1). \n",
    "    mxns is the maximum NS mass (1.8, nsflag=0; 3.0, nsflag=1). \n",
    "    idum is the random number seed used by the kick routine. \n",
    "\n",
    "\n",
    "             0 - deeply or fully convective low mass MS star\n",
    "             1 - Main Sequence star\n",
    "             2 - Hertzsprung Gap\n",
    "             3 - First Giant Branch\n",
    "             4 - Core Helium Burning\n",
    "             5 - First Asymptotic Giant Branch\n",
    "             6 - Second Asymptotic Giant Branch\n",
    "             7 - Main Sequence Naked Helium star\n",
    "             8 - Hertzsprung Gap Naked Helium star\n",
    "             9 - Giant Branch Naked Helium star\n",
    "            10 - Helium White Dwarf\n",
    "            11 - Carbon/Oxygen White Dwarf\n",
    "            12 - Oxygen/Neon White Dwarf\n",
    "            13 - Neutron Star\n",
    "            14 - Black Hole\n",
    "            15 - Massless Supernova"
   ]
  },
  {
   "cell_type": "code",
   "execution_count": 229,
   "metadata": {},
   "outputs": [],
   "source": [
    "def bse(mass1, mass2, age, P, metallicity, ecc, display='read'):\n",
    "    cmd = './bse'\n",
    "    arg0 = '\"'+str(mass1)+' '+str(mass2)+' '+str(age)+' '+str(P)+\\\n",
    "    ' 1 1 '+str(metallicity)+' '+str((ecc*(P>12)))+\\\n",
    "    ' 0.5 0.0 1.0 3.0 0.5\\\n",
    "     0 1 0 1 0 1 3.0 29769\\\n",
    "     0.05 0.01 0.02\\\n",
    "     190.0 0.125 1.0 1.5 0.001 10.0 -1.0\\\n",
    "     1 1 1 1 1 1 1 1\"'\n",
    "    if display == 'readlines':\n",
    "        return os.popen('echo '+arg0+' | '+cmd,'r').readlines()\n",
    "    else:\n",
    "        return os.popen('echo '+arg0+' | '+cmd,'r').read()"
   ]
  },
  {
   "cell_type": "markdown",
   "metadata": {},
   "source": [
    "## single test"
   ]
  },
  {
   "cell_type": "code",
   "execution_count": 212,
   "metadata": {
    "scrolled": true
   },
   "outputs": [
    {
     "name": "stdout",
     "output_type": "stream",
     "text": [
      "\n",
      "    0.0000  1  1    1.3000    1.0000    0.0000    0.0000    0.0970   -0.0452    0.1207    0.0981    0.4957   -0.0296  0.1629E+04  0.1038E+04  0.0000E+00  0.0000E+00  0.2577E+02  0.000\n",
      " 1000.0000  1  1    1.3000    1.0000    0.0000    0.0000    0.1331   -0.0318    0.1312    0.1011    0.5718   -0.0012  0.1514E+04  0.8341E+03  0.0000E+00  0.0000E+00  0.2578E+02  0.000\n",
      " 2000.0000  1  1    1.3000    1.0000    0.0000    0.0000    0.1889   -0.0182    0.1491    0.1044    0.6443    0.0311  0.1336E+04  0.6805E+03  0.0000E+00  0.0000E+00  0.2578E+02  0.000\n",
      " 3000.0000  1  1    1.3000    1.0000    0.0000    0.0000    0.2818   -0.0039    0.1847    0.1078    0.7132    0.0673  0.9881E+03  0.5291E+03  0.0000E+00  0.0000E+00  0.2578E+02  0.000\n",
      " 4000.0000  3  1    1.2981    1.0001    0.2155    0.0000    0.8025    0.0114    0.6360    0.1159    1.3306    0.1074  0.2421E+03  0.2467E+03 -0.2090E-10  0.2062E-11  0.2484E+02  0.000\n",
      " 5000.0000 11 15    0.5884    0.0000    0.5884    0.0000   -1.8882   -0.0266    0.0001   -1.0000   -3.0168   -0.0376  0.4836E-05  0.1627E+05  0.0000E+00  0.0000E+00  0.0000E+00 -1.000\n",
      " 6000.0000 11 15    0.5884    0.0000    0.5884    0.0000   -1.8882   -0.0266    0.0001   -1.0000   -3.6788   -0.0376  0.4836E-05  0.1627E+05  0.0000E+00  0.0000E+00  0.0000E+00 -1.000\n",
      " 7000.0000 11 15    0.5884    0.0000    0.5884    0.0000   -1.8882   -0.0266    0.0001   -1.0000   -3.9582   -0.0376  0.4836E-05  0.1627E+05  0.0000E+00  0.0000E+00  0.0000E+00 -1.000\n",
      " 8000.0000 11 15    0.5884    0.0000    0.5884    0.0000   -1.8882   -0.0266    0.0001   -1.0000   -4.1380   -0.0376  0.4836E-05  0.1627E+05  0.0000E+00  0.0000E+00  0.0000E+00 -1.000\n",
      " 9000.0000 11 15    0.5884    0.0000    0.5884    0.0000   -1.8882   -0.0266    0.0001   -1.0000   -4.2709   -0.0376  0.4836E-05  0.1627E+05  0.0000E+00  0.0000E+00  0.0000E+00 -1.000\n",
      "10000.0000 11 15    0.5884    0.0000    0.5884    0.0000   -1.8882   -0.0266    0.0001   -1.0000   -4.3763   -0.0376  0.4836E-05  0.1627E+05  0.0000E+00  0.0000E+00  0.0000E+00 -1.000\n",
      "   -1.0000 11 15    0.5884    0.0000    0.5884    0.0000   -1.8882   -0.0266    0.0001   -1.0000   -4.3763   -0.0376  0.4836E-05  0.1627E+05  0.0000E+00  0.0000E+00  0.0000E+00 -1.000\n",
      "      TIME      M1       M2   K1 K2        SEP    ECC  R1/ROL1 R2/ROL2  TYPE\n",
      "     0.0000    1.300    1.000  1  1       25.775  0.00   0.121   0.098  INITIAL \n",
      "  3632.6033    1.300    1.000  2  1       25.787  0.00   0.226   0.110  KW CHNGE\n",
      "  3823.9272    1.299    1.000  3  1       25.706  0.00   0.300   0.111  KW CHNGE\n",
      "  4039.2410    1.297    1.000  3  1       23.448  0.00   1.000   0.123  BEG RCHE\n",
      "  4039.2410    0.241    1.000 10  1        3.184  0.00   1.000   0.123  COMENV  \n",
      "  4039.2410    0.241    1.000 10  1        3.184  0.00   0.024   0.640  END RCHE\n",
      "  4327.3516    0.241    1.000 10  1        2.059  0.00   0.036   1.000  BEG RCHE\n",
      "  4378.6807    0.269    0.922  3  1        1.195  0.00   0.058   1.617  GNTAGE  \n",
      "  4378.6968    0.269    0.918  3  1        1.168  0.00   8.929   1.652  CONTACT \n",
      "  4378.6968    1.187    0.918  3 15        1.166  0.00   0.990   0.990  COMENV  \n",
      "  4389.7031    1.183    0.000  4 15        0.000 -1.00   0.000  -1.000  KW CHNGE\n",
      "  4616.2974    1.128    0.000  5 15        0.000 -1.00   0.000  -1.000  KW CHNGE\n",
      "  4620.8252    1.066    0.000  6 15        0.000 -1.00   0.000  -1.000  KW CHNGE\n",
      "  4621.1377    0.588    0.000 11 15        0.000 -1.00   0.000  -1.000  KW CHNGE\n",
      " 10000.0000    0.588    0.000 11 15        0.000 -1.00   0.000  -1.000  MAX TIME\n",
      "\n",
      "\n"
     ]
    }
   ],
   "source": [
    "print(bse(1.3, 1, 10e3, 10, 0.01, 0.9))"
   ]
  },
  {
   "cell_type": "code",
   "execution_count": 252,
   "metadata": {},
   "outputs": [],
   "source": [
    "n = 1000\n",
    "x = np.random.rand(n)\n",
    "mass1 = ( (0.8**(-1.3)-8**(-1.3))*x + 8**(-1.3) )**(-1/1.3)\n",
    "m_ratio = np.random.rand(n)\n",
    "mass2 = mass1 * m_ratio\n",
    "age = np.random.rand(n) * 12e3\n",
    "P = 10**(np.random.normal(5.03,2.28,n))\n",
    "metallicity = 0.020*10**(-(age/1e3)**2/50+0.15) + 0.0001#[0.001 for i in range(n)]\n",
    "ecc = np.random.rand(n)\n",
    "\n",
    "so = [None for i in range(n)]\n",
    "for i in range(n):\n",
    "    so[i] = bse(mass1[i], mass2[i], age[i], P[i], metallicity[i], ecc[i], 'readlines')"
   ]
  },
  {
   "cell_type": "code",
   "execution_count": 253,
   "metadata": {},
   "outputs": [
    {
     "data": {
      "image/png": "[encoded data removed]",
      "text/plain": [
       "<matplotlib.figure.Figure at 0x10c71ce80>"
      ]
     },
     "metadata": {},
     "output_type": "display_data"
    }
   ],
   "source": [
    "age_cool = np.zeros(n)\n",
    "mass_WD = np.zeros(n)\n",
    "for i in range(n):\n",
    "    if (so[i][-3][30:32]=='11' or so[i][-3][30:32]=='12') and so[i][-3][33:35]=='15':     \n",
    "        age_cool[i] = (float(so[i][-2][0:12]) - float(so[i][-3][0:12])) /1000\n",
    "        mass_WD[i] = float(so[i][-3][14:21])\n",
    "\n",
    "merged_to_WD = age_cool > 0\n",
    "high_velocity = age>8\n",
    "plt.plot(age_cool[merged_to_WD], mass_WD[merged_to_WD],'.')\n",
    "plt.show()"
   ]
  },
  {
   "cell_type": "code",
   "execution_count": 250,
   "metadata": {},
   "outputs": [
    {
     "name": "stdout",
     "output_type": "stream",
     "text": [
      "  2763.8997  11\n"
     ]
    }
   ],
   "source": [
    "print(so[0][-3][0:12], so[0][-3][33:35])"
   ]
  },
  {
   "cell_type": "code",
   "execution_count": 254,
   "metadata": {},
   "outputs": [
    {
     "data": {
      "text/plain": [
       "array([ 0.00019162,  0.02575864,  0.00096478,  0.01969287,  0.00036225,\n",
       "        0.00028531,  0.00121053,  0.01291103,  0.02044705,  0.00048436,\n",
       "        0.00030254,  0.00442682,  0.00239572,  0.02497791,  0.00212389,\n",
       "        0.00120051,  0.00032089,  0.0015987 ,  0.00547785,  0.00161211,\n",
       "        0.00015012,  0.01822972,  0.01084222,  0.0021184 ,  0.00230002,\n",
       "        0.00024179,  0.02008827,  0.00712485,  0.02834231,  0.00026911,\n",
       "        0.02380991,  0.01911096,  0.00292777,  0.00035812,  0.02701414,\n",
       "        0.01718056,  0.00420097,  0.00096344,  0.00023198,  0.00084137,\n",
       "        0.01858839,  0.01137001,  0.00021652,  0.01908174,  0.02823366,\n",
       "        0.00837763,  0.0013273 ,  0.00423976,  0.00121071,  0.01290685,\n",
       "        0.02577665,  0.00277014,  0.00295686,  0.00055508,  0.00055189,\n",
       "        0.00019152,  0.00018958,  0.0031127 ,  0.00397517,  0.00019724,\n",
       "        0.00026021,  0.00263637,  0.01637718,  0.00372566,  0.00538533,\n",
       "        0.00226071,  0.01667561,  0.00067633,  0.00015497,  0.00031161,\n",
       "        0.01615909,  0.00323471,  0.00708901,  0.02134082,  0.00074023,\n",
       "        0.01809186,  0.00030389,  0.0012491 ,  0.00745218,  0.00017319,\n",
       "        0.00041186,  0.00068709,  0.02381826,  0.02833601,  0.0283161 ,\n",
       "        0.00332654,  0.00531084,  0.00015079,  0.01429713,  0.0005172 ,\n",
       "        0.02418052,  0.00027148,  0.00030127,  0.00022293,  0.00017636,\n",
       "        0.00035122,  0.01419688,  0.01872704,  0.02669581,  0.00963199])"
      ]
     },
     "execution_count": 254,
     "metadata": {},
     "output_type": "execute_result"
    }
   ],
   "source": [
    "metallicity"
   ]
  },
  {
   "cell_type": "code",
   "execution_count": null,
   "metadata": {
    "collapsed": true
   },
   "outputs": [],
   "source": []
  }
 ],
 "metadata": {
  "kernelspec": {
   "display_name": "Python 3",
   "language": "python",
   "name": "python3"
  },
  "language_info": {
   "codemirror_mode": {
    "name": "ipython",
    "version": 3
   },
   "file_extension": ".py",
   "mimetype": "text/x-python",
   "name": "python",
   "nbconvert_exporter": "python",
   "pygments_lexer": "ipython3",
   "version": "3.6.3"
  }
 },
 "nbformat": 4,
 "nbformat_minor": 2
}
