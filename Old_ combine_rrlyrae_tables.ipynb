{
 "cells": [
  {
   "cell_type": "code",
   "execution_count": null,
   "metadata": {},
   "outputs": [],
   "source": [
    "import numpy as np\n",
    "import matplotlib.pyplot as plt\n",
    "from astropy.io import ascii, votable\n",
    "from astropy.table import Table, vstack, hstack\n",
    "\n",
    "dir_rrlyrae = '/datascope/menard/DATA/Gaia/gdr2/vari_rrlyrae/'"
   ]
  },
  {
   "cell_type": "code",
   "execution_count": null,
   "metadata": {},
   "outputs": [],
   "source": [
    "key = 'peak_to_peak_g'\n",
    "plt.figure(figsize=(6,6))\n",
    "selected = np.where((np.abs(table['b'])>35) \\\n",
    "                   * (table['num_clean_epochs_g']<100000) * (np.abs(bp_rp-1.4)<100000.2)\\\n",
    "                   * (table['best_classification']==b'RRab'))[0]\n",
    "#selected = np.where((np.abs(table.array['b'])>25) * (np.abs(table.array['bp_rp']-0.5)<0.2) \\\n",
    "#                   * (np.abs(table.array['phot_g_mean_mag']-19.2)<1.5) \\\n",
    "#                   * (np.abs(table.array['l']+80-360)<10) * (np.abs(table.array['b']+35)<10))[0]\n",
    "\n",
    "x = table[key]\n",
    "y = table['pf']#g - table['g_absorption']\n",
    "z = table[key]\n",
    "plt.scatter(x[selected],y[selected],10,z[selected],alpha=0.1)#,label='RRc type')\n",
    "\n",
    "plt.legend()\n",
    "plt.colorbar()\n",
    "\n",
    "plt.title(key)\n",
    "#plt.ylim(21,10)\n",
    "#plt.xlim(-0.,3)\n",
    "plt.xlabel('bp - rp')\n",
    "plt.ylabel('pf')\n",
    "plt.show()"
   ]
  },
  {
   "cell_type": "markdown",
   "metadata": {},
   "source": [
    "## packing VariRrlyrae_i.csv into a list"
   ]
  },
  {
   "cell_type": "code",
   "execution_count": null,
   "metadata": {},
   "outputs": [],
   "source": [
    "rrlyrae_list = []\n",
    "for i in range(64):\n",
    "    rrlyrae.append( Table.read('/datascope/menard/DATA/Gaia/gdr2/vari_rrlyrae/csv/VariRrlyrae_'+str(i)+'.csv',format='ascii') )\n",
    "print(i)"
   ]
  },
  {
   "cell_type": "code",
   "execution_count": null,
   "metadata": {},
   "outputs": [],
   "source": [
    "l = 0\n",
    "for i in range(64):\n",
    "    l += len(Table.read('/datascope/menard/DATA/Gaia/gdr2/vari_rrlyrae/csv/VariRrlyrae_'+str(i)+'.csv',format='ascii'))\n",
    "print(l)"
   ]
  },
  {
   "cell_type": "markdown",
   "metadata": {},
   "source": [
    "## packing VariRrlyrae_i.csv into one table"
   ]
  },
  {
   "cell_type": "code",
   "execution_count": null,
   "metadata": {},
   "outputs": [],
   "source": [
    "rrlyrae_combined = rrlyrae_list[0]\n",
    "for i in range(1,64):\n",
    "    rrlyrae_combined = vstack([rrlyrae_combined,rrlyrae_list[i]])\n",
    "print(i)"
   ]
  },
  {
   "cell_type": "code",
   "execution_count": null,
   "metadata": {},
   "outputs": [],
   "source": [
    "len(rrlyrae_combined)"
   ]
  },
  {
   "cell_type": "markdown",
   "metadata": {},
   "source": [
    "## write combined table"
   ]
  },
  {
   "cell_type": "code",
   "execution_count": null,
   "metadata": {},
   "outputs": [],
   "source": [
    "Table.write(rrlyrae_combined,'/datascope/menard/DATA/Gaia/gdr2/vari_rrlyrae/VariRrlyrae_combined.csv',format='csv')"
   ]
  },
  {
   "cell_type": "markdown",
   "metadata": {},
   "source": [
    "## Reopen it"
   ]
  },
  {
   "cell_type": "code",
   "execution_count": null,
   "metadata": {},
   "outputs": [],
   "source": [
    "VariRrlyrae_combined = Table.read('/datascope/menard/DATA/Gaia/gdr2/vari_rrlyrae/VariRrlyrae_combined.csv',format='csv')"
   ]
  },
  {
   "cell_type": "code",
   "execution_count": null,
   "metadata": {},
   "outputs": [],
   "source": [
    "VariRrlyrae_combined['source_id']"
   ]
  },
  {
   "cell_type": "code",
   "execution_count": null,
   "metadata": {},
   "outputs": [],
   "source": [
    "plt.hist(VariRrlyrae_combined['source_id'],10)"
   ]
  }
 ],
 "metadata": {
  "kernelspec": {
   "display_name": "Python 3",
   "language": "python",
   "name": "python3"
  },
  "language_info": {
   "codemirror_mode": {
    "name": "ipython",
    "version": 3
   },
   "file_extension": ".py",
   "mimetype": "text/x-python",
   "name": "python",
   "nbconvert_exporter": "python",
   "pygments_lexer": "ipython3",
   "version": "3.6.3"
  }
 },
 "nbformat": 4,
 "nbformat_minor": 2
}
