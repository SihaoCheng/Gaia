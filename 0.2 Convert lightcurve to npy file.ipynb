{
 "cells": [
  {
   "cell_type": "code",
   "execution_count": 2,
   "metadata": {},
   "outputs": [],
   "source": [
    "import numpy as np\n",
    "import matplotlib.pyplot as plt\n",
    "from astropy.io import ascii, votable\n",
    "from astropy.table import Table, vstack, hstack\n",
    "import astropy.units as u\n",
    "from astropy.coordinates import ICRS, Galactic\n",
    "from scipy.interpolate import interp1d\n",
    "\n",
    "from os import listdir\n",
    "\n",
    "dir_rrlyrae = '/datascope/menard/group/scheng/Gaia/'"
   ]
  },
  {
   "cell_type": "markdown",
   "metadata": {},
   "source": [
    "## load rrlyrae table"
   ]
  },
  {
   "cell_type": "code",
   "execution_count": 27,
   "metadata": {},
   "outputs": [
    {
     "data": {
      "text/plain": [
       "140784"
      ]
     },
     "execution_count": 27,
     "metadata": {},
     "output_type": "execute_result"
    }
   ],
   "source": [
    "rrlyrae = np.load(dir_rrlyrae+'rrlyrae.npy')[0]['rrlyrae']\n",
    "len(rrlyrae)"
   ]
  },
  {
   "cell_type": "markdown",
   "metadata": {},
   "source": [
    "## processing the name of light-curve folders"
   ]
  },
  {
   "cell_type": "code",
   "execution_count": 28,
   "metadata": {},
   "outputs": [],
   "source": [
    "dir_list = listdir('/datascope/menard/DATA/Gaia/gdr2_new/Gaia/gdr2/light_curves/csv/')\n",
    "id_list_start = np.zeros(len(dir_list),dtype=int)\n",
    "id_list_end = np.zeros(len(dir_list),dtype=int)\n",
    "for i in range(len(dir_list)):\n",
    "    underscore = []\n",
    "    dot = []\n",
    "    for j in range(len(dir_list[i])):\n",
    "        if dir_list[i][j] == '_':\n",
    "            underscore.append(j)\n",
    "        elif dir_list[i][j] == '.':\n",
    "            dot.append(j)\n",
    "    id_list_start[i] = dir_list[i][13:underscore[2]]\n",
    "    id_list_end[i] = dir_list[i][underscore[2]+1:dot[0]]"
   ]
  },
  {
   "cell_type": "markdown",
   "metadata": {},
   "source": [
    "## sort light curve folder by source id "
   ]
  },
  {
   "cell_type": "code",
   "execution_count": 29,
   "metadata": {
    "scrolled": true
   },
   "outputs": [
    {
     "data": {
      "text/plain": [
       "551"
      ]
     },
     "execution_count": 29,
     "metadata": {},
     "output_type": "execute_result"
    }
   ],
   "source": [
    "file_list = Table([id_list_end, dir_list],names=('id_list_end','dir_list'),dtype=(int,str))\n",
    "file_list.add_column(Table.Column(np.arange(len(id_list_end)),name='index_unordered',dtype=int))\n",
    "file_list.sort('id_list_end')\n",
    "len(dir_list)"
   ]
  },
  {
   "cell_type": "markdown",
   "metadata": {},
   "source": [
    "### sort RR Lyrae table by id"
   ]
  },
  {
   "cell_type": "code",
   "execution_count": 30,
   "metadata": {},
   "outputs": [],
   "source": [
    "table_id_ordered = rrlyrae.copy()\n",
    "table_id_ordered.add_column(Table.Column(np.arange(len(table_id_ordered)),name='index',dtype=int))\n",
    "table_id_ordered.sort('source_id')\n",
    "table_id_ordered.add_column(Table.Column(np.arange(len(table_id_ordered)),name='inverse_index',dtype=int))\n",
    "table_id_ordered.sort('index')\n",
    "inverse_index = table_id_ordered['inverse_index'].copy()\n",
    "table_id_ordered.sort('source_id')"
   ]
  },
  {
   "cell_type": "markdown",
   "metadata": {},
   "source": [
    "### select rr lyrae"
   ]
  },
  {
   "cell_type": "code",
   "execution_count": 31,
   "metadata": {},
   "outputs": [
    {
     "data": {
      "text/plain": [
       "140784"
      ]
     },
     "execution_count": 31,
     "metadata": {},
     "output_type": "execute_result"
    }
   ],
   "source": [
    "selected_ab_18_bright = (table_id_ordered['best_classification']==b'RRab') * (table_id_ordered['int_average_g']<1000)\n",
    "table_id_ordered_selected = table_id_ordered\n",
    "len(table_id_ordered)"
   ]
  },
  {
   "cell_type": "markdown",
   "metadata": {},
   "source": [
    "# combine light-curve files & make index list for RR Lyrae"
   ]
  },
  {
   "cell_type": "code",
   "execution_count": 8,
   "metadata": {},
   "outputs": [],
   "source": [
    "rrlyrae_index = np.load(dir_rrlyrae+'rrlyrae_lightcurve_index.npy')\n",
    "light_curve_total = np.load(dir_rrlyrae+'light_curve_total.npy')[0]['light_curve_total']"
   ]
  },
  {
   "cell_type": "code",
   "execution_count": 36,
   "metadata": {
    "collapsed": true
   },
   "outputs": [
    {
     "name": "stdout",
     "output_type": "stream",
     "text": [
      "380\n",
      "381\n",
      "382\n",
      "383\n",
      "384\n",
      "385\n",
      "386\n",
      "387\n",
      "388\n",
      "389\n",
      "390\n",
      "391\n",
      "392\n",
      "393\n",
      "394\n",
      "395\n",
      "396\n",
      "397\n",
      "398\n",
      "399\n",
      "400\n",
      "401\n",
      "402\n",
      "403\n",
      "404\n",
      "405\n",
      "406\n",
      "407\n",
      "408\n",
      "409\n",
      "410\n",
      "411\n",
      "412\n",
      "413\n",
      "414\n",
      "415\n",
      "416\n",
      "417\n",
      "418\n",
      "419\n",
      "420\n",
      "421\n",
      "422\n",
      "423\n",
      "424\n",
      "425\n",
      "426\n",
      "427\n",
      "428\n",
      "429\n",
      "430\n",
      "431\n",
      "432\n",
      "433\n",
      "434\n",
      "435\n",
      "436\n",
      "437\n",
      "438\n",
      "439\n",
      "440\n",
      "441\n",
      "442\n",
      "443\n",
      "444\n",
      "445\n",
      "446\n",
      "447\n",
      "448\n",
      "449\n",
      "450\n",
      "451\n",
      "452\n",
      "453\n",
      "454\n",
      "455\n",
      "456\n",
      "457\n",
      "458\n",
      "459\n",
      "460\n",
      "461\n",
      "462\n",
      "463\n",
      "464\n",
      "465\n",
      "466\n",
      "467\n",
      "468\n",
      "469\n",
      "470\n",
      "471\n",
      "472\n",
      "473\n",
      "474\n",
      "475\n",
      "476\n",
      "477\n",
      "478\n",
      "479\n",
      "480\n",
      "481\n",
      "482\n",
      "483\n",
      "484\n",
      "485\n",
      "486\n",
      "487\n",
      "488\n",
      "489\n",
      "490\n",
      "491\n",
      "492\n",
      "493\n",
      "494\n",
      "495\n",
      "496\n",
      "497\n",
      "498\n",
      "499\n",
      "500\n",
      "501\n",
      "502\n",
      "503\n",
      "504\n",
      "505\n",
      "506\n",
      "507\n",
      "508\n",
      "509\n",
      "510\n",
      "511\n",
      "512\n",
      "513\n",
      "514\n",
      "515\n",
      "516\n",
      "517\n",
      "518\n",
      "519\n",
      "520\n",
      "521\n",
      "522\n",
      "523\n",
      "524\n",
      "525\n",
      "526\n",
      "527\n",
      "528\n",
      "529\n",
      "530\n",
      "531\n",
      "532\n",
      "533\n",
      "534\n",
      "535\n",
      "536\n",
      "537\n",
      "538\n",
      "539\n",
      "540\n",
      "541\n",
      "542\n",
      "543\n",
      "544\n",
      "545\n",
      "546\n",
      "547\n",
      "548\n",
      "549\n",
      "550\n"
     ]
    }
   ],
   "source": [
    "import gc\n",
    "\n",
    "light_curve_empty = Table.read('/datascope/menard/DATA/Gaia/gdr2_new/Gaia/gdr2/light_curves/csv/'+file_list['dir_list'][0],format = 'csv')\n",
    "light_curve_empty.remove_rows(slice(0,len(light_curve_empty)))\n",
    "\n",
    "light_curve_total = light_curve_empty\n",
    "rrlyrae_index = np.zeros((len(rrlyrae),6),dtype=int) \n",
    "# start G, start BP, start RP, end RP, first_index_in_total_file, n\n",
    "\n",
    "cursor_rrlyrae = 99292\n",
    "\n",
    "for n_base in range(38,57):\n",
    "    light_curve_total_temp = light_curve_empty\n",
    "    gc.collect()\n",
    "    for n in range(n_base*10+0,n_base*10+10): # for each light curve file\n",
    "        print(n)\n",
    "        light_curve_sample = Table.read('/datascope/menard/DATA/Gaia/gdr2_new/Gaia/gdr2/light_curves/csv/'+file_list['dir_list'][n],format = 'csv')  \n",
    "        # open the file\n",
    "        first_index_in_total_file = len(light_curve_total_temp) + len(light_curve_total)\n",
    "                \n",
    "        cursor_light_curve = 0  # read from the first line \n",
    "        source_id = table_id_ordered_selected['source_id'][cursor_rrlyrae]\n",
    "        while source_id <= light_curve_sample['source_id'][-1]:\n",
    "    \n",
    "            while cursor_light_curve < len(light_curve_sample) and \\\n",
    "                    (light_curve_sample['source_id'][cursor_light_curve] < source_id):\n",
    "                cursor_light_curve += 1 # find the first line for the cursor_rrlyrae\n",
    "            start = cursor_light_curve\n",
    "            \n",
    "            while cursor_light_curve < len(light_curve_sample) and \\\n",
    "                    ( (light_curve_sample['source_id'][cursor_light_curve] == source_id) * (light_curve_sample['band'][cursor_light_curve] == 'G') ) :\n",
    "                cursor_light_curve += 1 # find the last line for the cursor_rrlyrae\n",
    "            start_BP = cursor_light_curve\n",
    "            \n",
    "            while cursor_light_curve < len(light_curve_sample) and \\\n",
    "                   ((light_curve_sample['source_id'][cursor_light_curve] == source_id) * (light_curve_sample['band'][cursor_light_curve] == 'BP') ):\n",
    "                cursor_light_curve += 1 # find the last line for the cursor_rrlyrae\n",
    "            start_RP = cursor_light_curve    \n",
    "    \n",
    "            while cursor_light_curve < len(light_curve_sample) and \\\n",
    "                  (  (light_curve_sample['source_id'][cursor_light_curve] == source_id) * (light_curve_sample['band'][cursor_light_curve] == 'RP') ):\n",
    "                cursor_light_curve += 1 # find the last line for the cursor_rrlyrae\n",
    "                if cursor_light_curve == len(light_curve_sample):\n",
    "                    break\n",
    "            end_RP = cursor_light_curve\n",
    "            \n",
    "            \n",
    "            rrlyrae_index[cursor_rrlyrae,0] = int(start) # record the position of light curve for each rrlyrae\n",
    "            rrlyrae_index[cursor_rrlyrae,1] = int(start_BP)\n",
    "            rrlyrae_index[cursor_rrlyrae,2] = int(start_RP)\n",
    "            rrlyrae_index[cursor_rrlyrae,3] = int(end_RP)\n",
    "            rrlyrae_index[cursor_rrlyrae,4] = int(first_index_in_total_file)\n",
    "            rrlyrae_index[cursor_rrlyrae,5] = int(n)\n",
    "            \n",
    "            cursor_rrlyrae += 1\n",
    "            if cursor_rrlyrae >= len(table_id_ordered_selected):\n",
    "                break\n",
    "            source_id = table_id_ordered_selected['source_id'][cursor_rrlyrae]\n",
    "        \n",
    "        light_curve_total_temp = vstack((light_curve_total_temp,light_curve_sample)) # stack the lightcurves\n",
    "        if cursor_rrlyrae >= len(table_id_ordered_selected):\n",
    "            break\n",
    "    \n",
    "    light_curve_total = vstack((light_curve_total,light_curve_total_temp))\n",
    "    if cursor_rrlyrae >= len(table_id_ordered_selected):\n",
    "        break"
   ]
  },
  {
   "cell_type": "markdown",
   "metadata": {},
   "source": [
    "### check the correctness"
   ]
  },
  {
   "cell_type": "code",
   "execution_count": 39,
   "metadata": {},
   "outputs": [
    {
     "name": "stdout",
     "output_type": "stream",
     "text": [
      "6917264079699449600 550\n"
     ]
    },
    {
     "data": {
      "text/html": [
       "<i>Table length=146</i>\n",
       "<table id=\"table140087619869328\" class=\"table-striped table-bordered table-condensed\">\n",
       "<thead><tr><th>source_id</th><th>transit_id</th><th>band</th><th>time</th><th>mag</th><th>flux</th><th>flux_error</th><th>flux_over_error</th><th>rejected_by_photometry</th><th>rejected_by_variability</th><th>other_flags</th><th>solution_id</th></tr></thead>\n",
       "<thead><tr><th>int64</th><th>int64</th><th>str2</th><th>float64</th><th>float64</th><th>float64</th><th>float64</th><th>float64</th><th>str5</th><th>str5</th><th>int64</th><th>int64</th></tr></thead>\n",
       "<tr><td>6917231987704428416</td><td>50768659788776230</td><td>RP</td><td>2314.9691984446677</td><td>17.442287449182217</td><td>846.9407235404029</td><td>39.43533255527813</td><td>21.476698</td><td>false</td><td>false</td><td>0</td><td>369295551293819386</td></tr>\n",
       "<tr><td>6917264079699449600</td><td>20072450219857235</td><td>G</td><td>1759.8451417789568</td><td>19.268282010330086</td><td>369.8566961746517</td><td>14.856225030971387</td><td>24.895739</td><td>false</td><td>false</td><td>4097</td><td>369295549951641967</td></tr>\n",
       "<tr><td>6917264079699449600</td><td>20076542511068047</td><td>G</td><td>1759.9191347005833</td><td>19.320326328347328</td><td>352.5459733652571</td><td>4.144063924094932</td><td>85.072525</td><td>false</td><td>false</td><td>524289</td><td>369295549951641967</td></tr>\n",
       "<tr><td>6917264079699449600</td><td>21720777228980342</td><td>G</td><td>1789.651412334692</td><td>19.324673943641102</td><td>351.13709560502235</td><td>4.639141955544111</td><td>75.690094</td><td>false</td><td>false</td><td>1</td><td>369295549951641967</td></tr>\n",
       "<tr><td>6917264079699449600</td><td>21730518037460592</td><td>G</td><td>1789.82755338045</td><td>18.952301959511043</td><td>494.79523229872694</td><td>8.265460523321343</td><td>59.862995</td><td>false</td><td>false</td><td>1</td><td>369295549951641967</td></tr>\n",
       "<tr><td>6917264079699449600</td><td>22850334415418476</td><td>G</td><td>1810.0771105355218</td><td>19.33319209925581</td><td>348.39302396701777</td><td>8.288440888162961</td><td>42.033604</td><td>false</td><td>false</td><td>1</td><td>369295549951641967</td></tr>\n",
       "<tr><td>6917264079699449600</td><td>22854426665738884</td><td>G</td><td>1810.1511110598385</td><td>19.293469431280137</td><td>361.37534353714665</td><td>6.447456292234253</td><td>56.04929</td><td>false</td><td>false</td><td>1</td><td>369295549951641967</td></tr>\n",
       "<tr><td>6917264079699449600</td><td>29970608288838337</td><td>G</td><td>1938.845714957021</td><td>19.268910342548626</td><td>369.6427163462756</td><td>7.145272333245077</td><td>51.732487</td><td>false</td><td>false</td><td>1</td><td>369295549951641967</td></tr>\n",
       "<tr><td>6917264079699449600</td><td>29974700574961931</td><td>G</td><td>1938.9197288011603</td><td>19.332786689390026</td><td>348.52313691836076</td><td>11.35059907619466</td><td>30.705263</td><td>false</td><td>false</td><td>1</td><td>369295549951641967</td></tr>\n",
       "<tr><td>6917264079699449600</td><td>31794336647369496</td><td>G</td><td>1971.8300333375926</td><td>18.912629664869975</td><td>513.2091893468713</td><td>5.279995178684783</td><td>97.1988</td><td>false</td><td>false</td><td>1</td><td>369295549951641967</td></tr>\n",
       "<tr><td>...</td><td>...</td><td>...</td><td>...</td><td>...</td><td>...</td><td>...</td><td>...</td><td>...</td><td>...</td><td>...</td><td>...</td></tr>\n",
       "<tr><td>6917264079699449600</td><td>43492097317413366</td><td>RP</td><td>2183.3726961525035</td><td>18.71800791775147</td><td>261.5560849977334</td><td>33.81024296608385</td><td>7.7360015</td><td>false</td><td>false</td><td>0</td><td>369295549951641967</td></tr>\n",
       "<tr><td>6917264079699449600</td><td>43496189637599742</td><td>RP</td><td>2183.4466987186242</td><td>19.155077412952203</td><td>174.87874586280924</td><td>60.68282294446756</td><td>2.8818493</td><td>false</td><td>false</td><td>0</td><td>369295549951641967</td></tr>\n",
       "<tr><td>6917264079699449600</td><td>48309120017142761</td><td>RP</td><td>2270.485996937946</td><td>18.67411281613659</td><td>272.347171254483</td><td>61.699717488550355</td><td>4.414075</td><td>false</td><td>false</td><td>0</td><td>369295549951641967</td></tr>\n",
       "<tr><td>6917264079699449600</td><td>48322953363361914</td><td>RP</td><td>2270.736182875551</td><td>18.75688335615069</td><td>252.35659144902093</td><td>61.10624520803272</td><td>4.1298003</td><td>false</td><td>false</td><td>0</td><td>369295549951641967</td></tr>\n",
       "<tr><td>6917264079699449600</td><td>48336786685732429</td><td>RP</td><td>2270.986368316555</td><td>18.9195499537571</td><td>217.24411161731234</td><td>61.369395454044586</td><td>3.5399423</td><td>false</td><td>false</td><td>0</td><td>369295549951641967</td></tr>\n",
       "<tr><td>6917264079699449600</td><td>48350619995383214</td><td>RP</td><td>2271.2365534844853</td><td>18.572811461616084</td><td>298.9808764154664</td><td>60.98531259911379</td><td>4.9025064</td><td>false</td><td>false</td><td>0</td><td>369295549951641967</td></tr>\n",
       "<tr><td>6917264079699449600</td><td>48364453305820805</td><td>RP</td><td>2271.486738609959</td><td>18.81071832981266</td><td>240.148934088326</td><td>59.16062305910023</td><td>4.05927</td><td>false</td><td>false</td><td>0</td><td>369295549951641967</td></tr>\n",
       "<tr><td>6917264079699449600</td><td>48378286628704493</td><td>RP</td><td>2271.7369239001646</td><td>18.832649492508708</td><td>235.34674617009594</td><td>57.385095018385584</td><td>4.1011825</td><td>false</td><td>false</td><td>0</td><td>369295549951641967</td></tr>\n",
       "<tr><td>6917264079699449600</td><td>48392119979250872</td><td>RP</td><td>2271.9871096228394</td><td>18.539458109361433</td><td>308.3079698607579</td><td>57.989357206373434</td><td>5.3166304</td><td>false</td><td>false</td><td>0</td><td>369295549951641967</td></tr>\n",
       "<tr><td>6917264079699449600</td><td>50764604755310202</td><td>RP</td><td>2314.895978449856</td><td>18.58417860970814</td><td>295.86701584266956</td><td>42.27365757662567</td><td>6.998851</td><td>false</td><td>false</td><td>0</td><td>369295549951641967</td></tr>\n",
       "</table>"
      ],
      "text/plain": [
       "<Table length=146>\n",
       "     source_id          transit_id    band ... other_flags    solution_id    \n",
       "       int64              int64       str2 ...    int64          int64       \n",
       "------------------- ----------------- ---- ... ----------- ------------------\n",
       "6917231987704428416 50768659788776230   RP ...           0 369295551293819386\n",
       "6917264079699449600 20072450219857235    G ...        4097 369295549951641967\n",
       "6917264079699449600 20076542511068047    G ...      524289 369295549951641967\n",
       "6917264079699449600 21720777228980342    G ...           1 369295549951641967\n",
       "6917264079699449600 21730518037460592    G ...           1 369295549951641967\n",
       "6917264079699449600 22850334415418476    G ...           1 369295549951641967\n",
       "6917264079699449600 22854426665738884    G ...           1 369295549951641967\n",
       "6917264079699449600 29970608288838337    G ...           1 369295549951641967\n",
       "6917264079699449600 29974700574961931    G ...           1 369295549951641967\n",
       "6917264079699449600 31794336647369496    G ...           1 369295549951641967\n",
       "                ...               ...  ... ...         ...                ...\n",
       "6917264079699449600 43492097317413366   RP ...           0 369295549951641967\n",
       "6917264079699449600 43496189637599742   RP ...           0 369295549951641967\n",
       "6917264079699449600 48309120017142761   RP ...           0 369295549951641967\n",
       "6917264079699449600 48322953363361914   RP ...           0 369295549951641967\n",
       "6917264079699449600 48336786685732429   RP ...           0 369295549951641967\n",
       "6917264079699449600 48350619995383214   RP ...           0 369295549951641967\n",
       "6917264079699449600 48364453305820805   RP ...           0 369295549951641967\n",
       "6917264079699449600 48378286628704493   RP ...           0 369295549951641967\n",
       "6917264079699449600 48392119979250872   RP ...           0 369295549951641967\n",
       "6917264079699449600 50764604755310202   RP ...           0 369295549951641967"
      ]
     },
     "execution_count": 39,
     "metadata": {},
     "output_type": "execute_result"
    }
   ],
   "source": [
    "i=140783\n",
    "print(table_id_ordered['source_id'][i],rrlyrae_index[i,5])\n",
    "light_curve_total[rrlyrae_index[i,0]+rrlyrae_index[i,4]-1:rrlyrae_index[i,3]+rrlyrae_index[i,4]+1]"
   ]
  },
  {
   "cell_type": "markdown",
   "metadata": {},
   "source": [
    "## save combined light-curve file & RR Lyrae index"
   ]
  },
  {
   "cell_type": "code",
   "execution_count": 40,
   "metadata": {},
   "outputs": [],
   "source": [
    "np.save(dir_rrlyrae+'rrlyrae_lightcurve_index_380_plus.npy',rrlyrae_index)\n",
    "np.save(dir_rrlyrae+'lightcurve_total_380_plus.npy',np.array([{'light_curve_total':light_curve_total}]))"
   ]
  },
  {
   "cell_type": "markdown",
   "metadata": {},
   "source": [
    "## combine 380- and 380+"
   ]
  },
  {
   "cell_type": "markdown",
   "metadata": {},
   "source": [
    "#### lightcurve"
   ]
  },
  {
   "cell_type": "code",
   "execution_count": 3,
   "metadata": {},
   "outputs": [],
   "source": [
    "rrlyrae_index_plus = np.load(dir_rrlyrae+'rrlyrae_lightcurve_index_380_plus.npy')\n",
    "light_curve_total_plus = np.load(dir_rrlyrae+'lightcurve_total_380_plus.npy')[0]['light_curve_total']"
   ]
  },
  {
   "cell_type": "code",
   "execution_count": 4,
   "metadata": {},
   "outputs": [],
   "source": [
    "rrlyrae_index_minus = np.load(dir_rrlyrae+'rrlyrae_lightcurve_index_380_minus.npy')\n",
    "light_curve_total_minus = np.load(dir_rrlyrae+'lightcurve_total_380_minus.npy')[0]['light_curve_total']"
   ]
  },
  {
   "cell_type": "code",
   "execution_count": 8,
   "metadata": {},
   "outputs": [
    {
     "data": {
      "text/plain": [
       "True"
      ]
     },
     "execution_count": 8,
     "metadata": {},
     "output_type": "execute_result"
    }
   ],
   "source": [
    "(light_curve_total_plus['band']=='G').sum()+(light_curve_total_minus['band']=='G').sum() == (light_curve_total['band']=='G').sum()"
   ]
  },
  {
   "cell_type": "code",
   "execution_count": 9,
   "metadata": {},
   "outputs": [],
   "source": [
    "np.save(dir_rrlyrae+'lightcurve_total_380.npy',np.array([{'light_curve_total':light_curve_total}]))"
   ]
  },
  {
   "cell_type": "markdown",
   "metadata": {},
   "source": [
    "#### index table"
   ]
  },
  {
   "cell_type": "code",
   "execution_count": 22,
   "metadata": {},
   "outputs": [],
   "source": [
    "rrlyrae_index_plus[:,4] = rrlyrae_index_plus[:,4] + len(light_curve_total_minus)\n",
    "rrlyrae_index_minus[99292:,:] = rrlyrae_index_plus[99292:,:]"
   ]
  },
  {
   "cell_type": "code",
   "execution_count": 33,
   "metadata": {},
   "outputs": [],
   "source": [
    "rrlyrae_index = rrlyrae_index_minus"
   ]
  },
  {
   "cell_type": "code",
   "execution_count": 34,
   "metadata": {
    "collapsed": true
   },
   "outputs": [
    {
     "name": "stdout",
     "output_type": "stream",
     "text": [
      "6917264079699449600 550\n"
     ]
    },
    {
     "data": {
      "text/html": [
       "<i>Table masked=True length=146</i>\n",
       "<table id=\"table140521231835032\" class=\"table-striped table-bordered table-condensed\">\n",
       "<thead><tr><th>source_id</th><th>transit_id</th><th>band</th><th>time</th><th>mag</th><th>flux</th><th>flux_error</th><th>flux_over_error</th><th>rejected_by_photometry</th><th>rejected_by_variability</th><th>other_flags</th><th>solution_id</th></tr></thead>\n",
       "<thead><tr><th>int64</th><th>int64</th><th>str2</th><th>float64</th><th>float64</th><th>float64</th><th>float64</th><th>float64</th><th>str5</th><th>str5</th><th>int64</th><th>int64</th></tr></thead>\n",
       "<tr><td>6917231987704428416</td><td>50768659788776230</td><td>RP</td><td>2314.9691984446677</td><td>17.442287449182217</td><td>846.9407235404029</td><td>39.43533255527813</td><td>21.476698</td><td>false</td><td>false</td><td>0</td><td>369295551293819386</td></tr>\n",
       "<tr><td>6917264079699449600</td><td>20072450219857235</td><td>G</td><td>1759.8451417789568</td><td>19.268282010330086</td><td>369.8566961746517</td><td>14.856225030971387</td><td>24.895739</td><td>false</td><td>false</td><td>4097</td><td>369295549951641967</td></tr>\n",
       "<tr><td>6917264079699449600</td><td>20076542511068047</td><td>G</td><td>1759.9191347005833</td><td>19.320326328347328</td><td>352.5459733652571</td><td>4.144063924094932</td><td>85.072525</td><td>false</td><td>false</td><td>524289</td><td>369295549951641967</td></tr>\n",
       "<tr><td>6917264079699449600</td><td>21720777228980342</td><td>G</td><td>1789.651412334692</td><td>19.324673943641102</td><td>351.13709560502235</td><td>4.639141955544111</td><td>75.690094</td><td>false</td><td>false</td><td>1</td><td>369295549951641967</td></tr>\n",
       "<tr><td>6917264079699449600</td><td>21730518037460592</td><td>G</td><td>1789.82755338045</td><td>18.952301959511043</td><td>494.79523229872694</td><td>8.265460523321343</td><td>59.862995</td><td>false</td><td>false</td><td>1</td><td>369295549951641967</td></tr>\n",
       "<tr><td>6917264079699449600</td><td>22850334415418476</td><td>G</td><td>1810.0771105355218</td><td>19.33319209925581</td><td>348.39302396701777</td><td>8.288440888162961</td><td>42.033604</td><td>false</td><td>false</td><td>1</td><td>369295549951641967</td></tr>\n",
       "<tr><td>6917264079699449600</td><td>22854426665738884</td><td>G</td><td>1810.1511110598385</td><td>19.293469431280137</td><td>361.37534353714665</td><td>6.447456292234253</td><td>56.04929</td><td>false</td><td>false</td><td>1</td><td>369295549951641967</td></tr>\n",
       "<tr><td>6917264079699449600</td><td>29970608288838337</td><td>G</td><td>1938.845714957021</td><td>19.268910342548626</td><td>369.6427163462756</td><td>7.145272333245077</td><td>51.732487</td><td>false</td><td>false</td><td>1</td><td>369295549951641967</td></tr>\n",
       "<tr><td>6917264079699449600</td><td>29974700574961931</td><td>G</td><td>1938.9197288011603</td><td>19.332786689390026</td><td>348.52313691836076</td><td>11.35059907619466</td><td>30.705263</td><td>false</td><td>false</td><td>1</td><td>369295549951641967</td></tr>\n",
       "<tr><td>6917264079699449600</td><td>31794336647369496</td><td>G</td><td>1971.8300333375926</td><td>18.912629664869975</td><td>513.2091893468713</td><td>5.279995178684783</td><td>97.1988</td><td>false</td><td>false</td><td>1</td><td>369295549951641967</td></tr>\n",
       "<tr><td>...</td><td>...</td><td>...</td><td>...</td><td>...</td><td>...</td><td>...</td><td>...</td><td>...</td><td>...</td><td>...</td><td>...</td></tr>\n",
       "<tr><td>6917264079699449600</td><td>43492097317413366</td><td>RP</td><td>2183.3726961525035</td><td>18.71800791775147</td><td>261.5560849977334</td><td>33.81024296608385</td><td>7.7360015</td><td>false</td><td>false</td><td>0</td><td>369295549951641967</td></tr>\n",
       "<tr><td>6917264079699449600</td><td>43496189637599742</td><td>RP</td><td>2183.4466987186242</td><td>19.155077412952203</td><td>174.87874586280924</td><td>60.68282294446756</td><td>2.8818493</td><td>false</td><td>false</td><td>0</td><td>369295549951641967</td></tr>\n",
       "<tr><td>6917264079699449600</td><td>48309120017142761</td><td>RP</td><td>2270.485996937946</td><td>18.67411281613659</td><td>272.347171254483</td><td>61.699717488550355</td><td>4.414075</td><td>false</td><td>false</td><td>0</td><td>369295549951641967</td></tr>\n",
       "<tr><td>6917264079699449600</td><td>48322953363361914</td><td>RP</td><td>2270.736182875551</td><td>18.75688335615069</td><td>252.35659144902093</td><td>61.10624520803272</td><td>4.1298003</td><td>false</td><td>false</td><td>0</td><td>369295549951641967</td></tr>\n",
       "<tr><td>6917264079699449600</td><td>48336786685732429</td><td>RP</td><td>2270.986368316555</td><td>18.9195499537571</td><td>217.24411161731234</td><td>61.369395454044586</td><td>3.5399423</td><td>false</td><td>false</td><td>0</td><td>369295549951641967</td></tr>\n",
       "<tr><td>6917264079699449600</td><td>48350619995383214</td><td>RP</td><td>2271.2365534844853</td><td>18.572811461616084</td><td>298.9808764154664</td><td>60.98531259911379</td><td>4.9025064</td><td>false</td><td>false</td><td>0</td><td>369295549951641967</td></tr>\n",
       "<tr><td>6917264079699449600</td><td>48364453305820805</td><td>RP</td><td>2271.486738609959</td><td>18.81071832981266</td><td>240.148934088326</td><td>59.16062305910023</td><td>4.05927</td><td>false</td><td>false</td><td>0</td><td>369295549951641967</td></tr>\n",
       "<tr><td>6917264079699449600</td><td>48378286628704493</td><td>RP</td><td>2271.7369239001646</td><td>18.832649492508708</td><td>235.34674617009594</td><td>57.385095018385584</td><td>4.1011825</td><td>false</td><td>false</td><td>0</td><td>369295549951641967</td></tr>\n",
       "<tr><td>6917264079699449600</td><td>48392119979250872</td><td>RP</td><td>2271.9871096228394</td><td>18.539458109361433</td><td>308.3079698607579</td><td>57.989357206373434</td><td>5.3166304</td><td>false</td><td>false</td><td>0</td><td>369295549951641967</td></tr>\n",
       "<tr><td>6917264079699449600</td><td>50764604755310202</td><td>RP</td><td>2314.895978449856</td><td>18.58417860970814</td><td>295.86701584266956</td><td>42.27365757662567</td><td>6.998851</td><td>false</td><td>false</td><td>0</td><td>369295549951641967</td></tr>\n",
       "</table>"
      ],
      "text/plain": [
       "<Table masked=True length=146>\n",
       "     source_id          transit_id    band ... other_flags    solution_id    \n",
       "       int64              int64       str2 ...    int64          int64       \n",
       "------------------- ----------------- ---- ... ----------- ------------------\n",
       "6917231987704428416 50768659788776230   RP ...           0 369295551293819386\n",
       "6917264079699449600 20072450219857235    G ...        4097 369295549951641967\n",
       "6917264079699449600 20076542511068047    G ...      524289 369295549951641967\n",
       "6917264079699449600 21720777228980342    G ...           1 369295549951641967\n",
       "6917264079699449600 21730518037460592    G ...           1 369295549951641967\n",
       "6917264079699449600 22850334415418476    G ...           1 369295549951641967\n",
       "6917264079699449600 22854426665738884    G ...           1 369295549951641967\n",
       "6917264079699449600 29970608288838337    G ...           1 369295549951641967\n",
       "6917264079699449600 29974700574961931    G ...           1 369295549951641967\n",
       "6917264079699449600 31794336647369496    G ...           1 369295549951641967\n",
       "                ...               ...  ... ...         ...                ...\n",
       "6917264079699449600 43492097317413366   RP ...           0 369295549951641967\n",
       "6917264079699449600 43496189637599742   RP ...           0 369295549951641967\n",
       "6917264079699449600 48309120017142761   RP ...           0 369295549951641967\n",
       "6917264079699449600 48322953363361914   RP ...           0 369295549951641967\n",
       "6917264079699449600 48336786685732429   RP ...           0 369295549951641967\n",
       "6917264079699449600 48350619995383214   RP ...           0 369295549951641967\n",
       "6917264079699449600 48364453305820805   RP ...           0 369295549951641967\n",
       "6917264079699449600 48378286628704493   RP ...           0 369295549951641967\n",
       "6917264079699449600 48392119979250872   RP ...           0 369295549951641967\n",
       "6917264079699449600 50764604755310202   RP ...           0 369295549951641967"
      ]
     },
     "execution_count": 34,
     "metadata": {},
     "output_type": "execute_result"
    }
   ],
   "source": [
    "i=140783\n",
    "print(table_id_ordered['source_id'][i],rrlyrae_index[i,5])\n",
    "light_curve_total[rrlyrae_index[i,0]+rrlyrae_index[i,4]-1:rrlyrae_index[i,3]+rrlyrae_index[i,4]+1]"
   ]
  },
  {
   "cell_type": "code",
   "execution_count": 37,
   "metadata": {},
   "outputs": [
    {
     "data": {
      "text/plain": [
       "140784"
      ]
     },
     "execution_count": 37,
     "metadata": {},
     "output_type": "execute_result"
    }
   ],
   "source": [
    "len(rrlyrae_index)"
   ]
  },
  {
   "cell_type": "code",
   "execution_count": 35,
   "metadata": {},
   "outputs": [],
   "source": [
    "np.save(dir_rrlyrae+'rrlyrae_lightcurve_index.npy',np.array([{'rrlyrae_index':rrlyrae_index}]))"
   ]
  }
 ],
 "metadata": {
  "kernelspec": {
   "display_name": "Python 3",
   "language": "python",
   "name": "python3"
  },
  "language_info": {
   "codemirror_mode": {
    "name": "ipython",
    "version": 3
   },
   "file_extension": ".py",
   "mimetype": "text/x-python",
   "name": "python",
   "nbconvert_exporter": "python",
   "pygments_lexer": "ipython3",
   "version": "3.6.3"
  }
 },
 "nbformat": 4,
 "nbformat_minor": 2
}
